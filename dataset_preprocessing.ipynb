{
 "cells": [
  {
   "cell_type": "code",
   "execution_count": 8,
   "id": "0da7ea4d",
   "metadata": {},
   "outputs": [],
   "source": [
    "from preprocessing import *"
   ]
  },
  {
   "cell_type": "markdown",
   "id": "e6cabae7",
   "metadata": {},
   "source": [
    "# Разбиение на train/dev"
   ]
  },
  {
   "cell_type": "code",
   "execution_count": 13,
   "id": "323dde38",
   "metadata": {},
   "outputs": [],
   "source": [
    "from collections import defaultdict\n",
    "from pathlib import Path\n",
    "\n",
    "import pandas as pd"
   ]
  },
  {
   "cell_type": "code",
   "execution_count": 10,
   "id": "60b0169f",
   "metadata": {},
   "outputs": [],
   "source": [
    "datasets = defaultdict(dict)"
   ]
  },
  {
   "cell_type": "code",
   "execution_count": 14,
   "id": "9d7a102f",
   "metadata": {},
   "outputs": [],
   "source": [
    "datasets['reviews']['path'] = Path('./data/train_reviews.txt').resolve()\n",
    "datasets['aspects']['path'] = Path('./data/train_aspects.txt').resolve()\n",
    "datasets['categories']['path'] = Path('./data/train_cats.txt').resolve()"
   ]
  },
  {
   "cell_type": "code",
   "execution_count": 15,
   "id": "541a4486",
   "metadata": {},
   "outputs": [],
   "source": [
    "datasets['reviews']['full_df'] = pd.read_csv(\n",
    "    datasets['reviews']['path'], sep='\\t', header=None, index_col=None, names=['text_id', 'text']\n",
    ")\n",
    "datasets['aspects']['full_df'] = pd.read_csv(datasets['aspects']['path'], sep='\\t', header=None, index_col=None, \n",
    "                      names=['text_id', 'category', 'aspect', 'start', 'end', 'sentiment'])\n",
    "datasets['categories']['full_df'] = pd.read_csv(datasets['categories']['path'], sep='\\t', header=None, index_col=None, names=['text_id', 'category', 'sentiment'])"
   ]
  },
  {
   "cell_type": "code",
   "execution_count": 6,
   "id": "4c3f558d",
   "metadata": {},
   "outputs": [],
   "source": [
    "from sklearn.model_selection import train_test_split"
   ]
  },
  {
   "cell_type": "code",
   "execution_count": 16,
   "id": "d7f2653d",
   "metadata": {},
   "outputs": [
    {
     "data": {
      "text/plain": [
       "((227,), (57,))"
      ]
     },
     "execution_count": 16,
     "metadata": {},
     "output_type": "execute_result"
    }
   ],
   "source": [
    "text_ids = datasets['reviews']['full_df'].text_id.values\n",
    "train_text_idx, test_text_ids = train_test_split(text_ids, test_size=0.2, random_state=42)\n",
    "train_text_idx.shape, test_text_ids.shape"
   ]
  },
  {
   "cell_type": "code",
   "execution_count": 17,
   "id": "6b969c2f",
   "metadata": {},
   "outputs": [],
   "source": [
    "for file in datasets:\n",
    "    train, test = split_data(datasets[file]['full_df'], train_text_idx, test_text_ids, 'text_id')\n",
    "    datasets[file]['train'] = train\n",
    "    datasets[file]['dev'] = test"
   ]
  },
  {
   "cell_type": "code",
   "execution_count": 18,
   "id": "29c05c17",
   "metadata": {},
   "outputs": [
    {
     "data": {
      "text/html": [
       "<div>\n",
       "<style scoped>\n",
       "    .dataframe tbody tr th:only-of-type {\n",
       "        vertical-align: middle;\n",
       "    }\n",
       "\n",
       "    .dataframe tbody tr th {\n",
       "        vertical-align: top;\n",
       "    }\n",
       "\n",
       "    .dataframe thead th {\n",
       "        text-align: right;\n",
       "    }\n",
       "</style>\n",
       "<table border=\"1\" class=\"dataframe\">\n",
       "  <thead>\n",
       "    <tr style=\"text-align: right;\">\n",
       "      <th></th>\n",
       "      <th>text_id</th>\n",
       "      <th>text</th>\n",
       "    </tr>\n",
       "  </thead>\n",
       "  <tbody>\n",
       "    <tr>\n",
       "      <th>278</th>\n",
       "      <td>343</td>\n",
       "      <td>Отмечали свадьбу в этом ресторане! В целом все...</td>\n",
       "    </tr>\n",
       "    <tr>\n",
       "      <th>279</th>\n",
       "      <td>6962</td>\n",
       "      <td>Очаровательная Виктория просила об отзыве и я ...</td>\n",
       "    </tr>\n",
       "    <tr>\n",
       "      <th>280</th>\n",
       "      <td>9878</td>\n",
       "      <td>Пришли в данное заведение 4 июня 2014 года пок...</td>\n",
       "    </tr>\n",
       "    <tr>\n",
       "      <th>281</th>\n",
       "      <td>28258</td>\n",
       "      <td>Заехали с мужем поужинать в пятницу ( 17.01.14...</td>\n",
       "    </tr>\n",
       "    <tr>\n",
       "      <th>283</th>\n",
       "      <td>16630</td>\n",
       "      <td>Уютная и тёплая домашняя обстановка! Милый и о...</td>\n",
       "    </tr>\n",
       "  </tbody>\n",
       "</table>\n",
       "</div>"
      ],
      "text/plain": [
       "     text_id                                               text\n",
       "278      343  Отмечали свадьбу в этом ресторане! В целом все...\n",
       "279     6962  Очаровательная Виктория просила об отзыве и я ...\n",
       "280     9878  Пришли в данное заведение 4 июня 2014 года пок...\n",
       "281    28258  Заехали с мужем поужинать в пятницу ( 17.01.14...\n",
       "283    16630  Уютная и тёплая домашняя обстановка! Милый и о..."
      ]
     },
     "execution_count": 18,
     "metadata": {},
     "output_type": "execute_result"
    }
   ],
   "source": [
    "datasets['reviews']['train'].tail()"
   ]
  },
  {
   "cell_type": "code",
   "execution_count": 19,
   "id": "669ff0db",
   "metadata": {},
   "outputs": [
    {
     "data": {
      "text/html": [
       "<div>\n",
       "<style scoped>\n",
       "    .dataframe tbody tr th:only-of-type {\n",
       "        vertical-align: middle;\n",
       "    }\n",
       "\n",
       "    .dataframe tbody tr th {\n",
       "        vertical-align: top;\n",
       "    }\n",
       "\n",
       "    .dataframe thead th {\n",
       "        text-align: right;\n",
       "    }\n",
       "</style>\n",
       "<table border=\"1\" class=\"dataframe\">\n",
       "  <thead>\n",
       "    <tr style=\"text-align: right;\">\n",
       "      <th></th>\n",
       "      <th>text_id</th>\n",
       "      <th>category</th>\n",
       "      <th>aspect</th>\n",
       "      <th>start</th>\n",
       "      <th>end</th>\n",
       "      <th>sentiment</th>\n",
       "    </tr>\n",
       "  </thead>\n",
       "  <tbody>\n",
       "    <tr>\n",
       "      <th>4758</th>\n",
       "      <td>16630</td>\n",
       "      <td>Service</td>\n",
       "      <td>обслуживание</td>\n",
       "      <td>85</td>\n",
       "      <td>97</td>\n",
       "      <td>positive</td>\n",
       "    </tr>\n",
       "    <tr>\n",
       "      <th>4759</th>\n",
       "      <td>16630</td>\n",
       "      <td>Food</td>\n",
       "      <td>Еда</td>\n",
       "      <td>99</td>\n",
       "      <td>102</td>\n",
       "      <td>positive</td>\n",
       "    </tr>\n",
       "    <tr>\n",
       "      <th>4760</th>\n",
       "      <td>16630</td>\n",
       "      <td>Service</td>\n",
       "      <td>персоналу</td>\n",
       "      <td>244</td>\n",
       "      <td>253</td>\n",
       "      <td>positive</td>\n",
       "    </tr>\n",
       "    <tr>\n",
       "      <th>4761</th>\n",
       "      <td>16630</td>\n",
       "      <td>Whole</td>\n",
       "      <td>ресторан</td>\n",
       "      <td>294</td>\n",
       "      <td>302</td>\n",
       "      <td>positive</td>\n",
       "    </tr>\n",
       "    <tr>\n",
       "      <th>4762</th>\n",
       "      <td>16630</td>\n",
       "      <td>Whole</td>\n",
       "      <td>место</td>\n",
       "      <td>315</td>\n",
       "      <td>320</td>\n",
       "      <td>positive</td>\n",
       "    </tr>\n",
       "  </tbody>\n",
       "</table>\n",
       "</div>"
      ],
      "text/plain": [
       "      text_id category        aspect  start  end sentiment\n",
       "4758    16630  Service  обслуживание     85   97  positive\n",
       "4759    16630     Food           Еда     99  102  positive\n",
       "4760    16630  Service     персоналу    244  253  positive\n",
       "4761    16630    Whole      ресторан    294  302  positive\n",
       "4762    16630    Whole         место    315  320  positive"
      ]
     },
     "execution_count": 19,
     "metadata": {},
     "output_type": "execute_result"
    }
   ],
   "source": [
    "datasets['aspects']['train'].tail()"
   ]
  },
  {
   "cell_type": "code",
   "execution_count": 23,
   "id": "5f84d545",
   "metadata": {},
   "outputs": [],
   "source": [
    "for file in datasets:\n",
    "    folder = datasets[file]['path'].parent\n",
    "    datasets[file]['train'].to_csv(Path(folder, f'{file}_train.csv'), sep='\\t', header=False, index=False)\n",
    "    datasets[file]['dev'].to_csv(Path(folder, f'{file}_dev.csv'), sep='\\t', header=False, index=False)"
   ]
  },
  {
   "cell_type": "markdown",
   "id": "79ff4660",
   "metadata": {},
   "source": [
    "# Конвертация в BIO"
   ]
  },
  {
   "cell_type": "code",
   "execution_count": 24,
   "id": "a4507d02",
   "metadata": {
    "scrolled": true
   },
   "outputs": [
    {
     "name": "stdout",
     "output_type": "stream",
     "text": [
      "Collecting ru-core-news-sm==3.5.0\n",
      "  Downloading https://github.com/explosion/spacy-models/releases/download/ru_core_news_sm-3.5.0/ru_core_news_sm-3.5.0-py3-none-any.whl (15.3 MB)\n",
      "\u001b[2K     \u001b[90m━━━━━━━━━━━━━━━━━━━━━━━━━━━━━━━━━━━━━━━━\u001b[0m \u001b[32m15.3/15.3 MB\u001b[0m \u001b[31m1.4 MB/s\u001b[0m eta \u001b[36m0:00:00\u001b[0m00:01\u001b[0m00:01\u001b[0m\n",
      "\u001b[?25hRequirement already satisfied: spacy<3.6.0,>=3.5.0 in /Users/viktoriaknazkova/anaconda3/lib/python3.11/site-packages (from ru-core-news-sm==3.5.0) (3.5.4)\n",
      "Requirement already satisfied: pymorphy3>=1.0.0 in /Users/viktoriaknazkova/anaconda3/lib/python3.11/site-packages (from ru-core-news-sm==3.5.0) (1.2.1)\n",
      "Requirement already satisfied: dawg-python>=0.7.1 in /Users/viktoriaknazkova/anaconda3/lib/python3.11/site-packages (from pymorphy3>=1.0.0->ru-core-news-sm==3.5.0) (0.7.2)\n",
      "Requirement already satisfied: docopt-ng>=0.6 in /Users/viktoriaknazkova/anaconda3/lib/python3.11/site-packages (from pymorphy3>=1.0.0->ru-core-news-sm==3.5.0) (0.9.0)\n",
      "Requirement already satisfied: pymorphy3-dicts-ru in /Users/viktoriaknazkova/anaconda3/lib/python3.11/site-packages (from pymorphy3>=1.0.0->ru-core-news-sm==3.5.0) (2.4.417150.4580142)\n",
      "Requirement already satisfied: spacy-legacy<3.1.0,>=3.0.11 in /Users/viktoriaknazkova/anaconda3/lib/python3.11/site-packages (from spacy<3.6.0,>=3.5.0->ru-core-news-sm==3.5.0) (3.0.12)\n",
      "Requirement already satisfied: spacy-loggers<2.0.0,>=1.0.0 in /Users/viktoriaknazkova/anaconda3/lib/python3.11/site-packages (from spacy<3.6.0,>=3.5.0->ru-core-news-sm==3.5.0) (1.0.5)\n",
      "Requirement already satisfied: murmurhash<1.1.0,>=0.28.0 in /Users/viktoriaknazkova/anaconda3/lib/python3.11/site-packages (from spacy<3.6.0,>=3.5.0->ru-core-news-sm==3.5.0) (1.0.10)\n",
      "Requirement already satisfied: cymem<2.1.0,>=2.0.2 in /Users/viktoriaknazkova/anaconda3/lib/python3.11/site-packages (from spacy<3.6.0,>=3.5.0->ru-core-news-sm==3.5.0) (2.0.8)\n",
      "Requirement already satisfied: preshed<3.1.0,>=3.0.2 in /Users/viktoriaknazkova/anaconda3/lib/python3.11/site-packages (from spacy<3.6.0,>=3.5.0->ru-core-news-sm==3.5.0) (3.0.9)\n",
      "Requirement already satisfied: thinc<8.2.0,>=8.1.8 in /Users/viktoriaknazkova/anaconda3/lib/python3.11/site-packages (from spacy<3.6.0,>=3.5.0->ru-core-news-sm==3.5.0) (8.1.12)\n",
      "Requirement already satisfied: wasabi<1.2.0,>=0.9.1 in /Users/viktoriaknazkova/anaconda3/lib/python3.11/site-packages (from spacy<3.6.0,>=3.5.0->ru-core-news-sm==3.5.0) (1.1.2)\n",
      "Requirement already satisfied: srsly<3.0.0,>=2.4.3 in /Users/viktoriaknazkova/anaconda3/lib/python3.11/site-packages (from spacy<3.6.0,>=3.5.0->ru-core-news-sm==3.5.0) (2.4.8)\n",
      "Requirement already satisfied: catalogue<2.1.0,>=2.0.6 in /Users/viktoriaknazkova/anaconda3/lib/python3.11/site-packages (from spacy<3.6.0,>=3.5.0->ru-core-news-sm==3.5.0) (2.0.10)\n",
      "Requirement already satisfied: typer<0.10.0,>=0.3.0 in /Users/viktoriaknazkova/anaconda3/lib/python3.11/site-packages (from spacy<3.6.0,>=3.5.0->ru-core-news-sm==3.5.0) (0.9.0)\n",
      "Requirement already satisfied: pathy>=0.10.0 in /Users/viktoriaknazkova/anaconda3/lib/python3.11/site-packages (from spacy<3.6.0,>=3.5.0->ru-core-news-sm==3.5.0) (0.10.2)\n",
      "Requirement already satisfied: smart-open<7.0.0,>=5.2.1 in /Users/viktoriaknazkova/anaconda3/lib/python3.11/site-packages (from spacy<3.6.0,>=3.5.0->ru-core-news-sm==3.5.0) (5.2.1)\n",
      "Requirement already satisfied: tqdm<5.0.0,>=4.38.0 in /Users/viktoriaknazkova/anaconda3/lib/python3.11/site-packages (from spacy<3.6.0,>=3.5.0->ru-core-news-sm==3.5.0) (4.65.0)\n",
      "Requirement already satisfied: numpy>=1.15.0 in /Users/viktoriaknazkova/anaconda3/lib/python3.11/site-packages (from spacy<3.6.0,>=3.5.0->ru-core-news-sm==3.5.0) (1.24.3)\n",
      "Requirement already satisfied: requests<3.0.0,>=2.13.0 in /Users/viktoriaknazkova/anaconda3/lib/python3.11/site-packages (from spacy<3.6.0,>=3.5.0->ru-core-news-sm==3.5.0) (2.31.0)\n",
      "Requirement already satisfied: pydantic!=1.8,!=1.8.1,<1.11.0,>=1.7.4 in /Users/viktoriaknazkova/anaconda3/lib/python3.11/site-packages (from spacy<3.6.0,>=3.5.0->ru-core-news-sm==3.5.0) (1.10.13)\n",
      "Requirement already satisfied: jinja2 in /Users/viktoriaknazkova/anaconda3/lib/python3.11/site-packages (from spacy<3.6.0,>=3.5.0->ru-core-news-sm==3.5.0) (3.1.2)\n",
      "Requirement already satisfied: setuptools in /Users/viktoriaknazkova/anaconda3/lib/python3.11/site-packages (from spacy<3.6.0,>=3.5.0->ru-core-news-sm==3.5.0) (68.0.0)\n",
      "Requirement already satisfied: packaging>=20.0 in /Users/viktoriaknazkova/anaconda3/lib/python3.11/site-packages (from spacy<3.6.0,>=3.5.0->ru-core-news-sm==3.5.0) (23.0)\n",
      "Requirement already satisfied: langcodes<4.0.0,>=3.2.0 in /Users/viktoriaknazkova/anaconda3/lib/python3.11/site-packages (from spacy<3.6.0,>=3.5.0->ru-core-news-sm==3.5.0) (3.3.0)\n",
      "Requirement already satisfied: typing-extensions>=4.2.0 in /Users/viktoriaknazkova/anaconda3/lib/python3.11/site-packages (from pydantic!=1.8,!=1.8.1,<1.11.0,>=1.7.4->spacy<3.6.0,>=3.5.0->ru-core-news-sm==3.5.0) (4.7.1)\n",
      "Requirement already satisfied: charset-normalizer<4,>=2 in /Users/viktoriaknazkova/anaconda3/lib/python3.11/site-packages (from requests<3.0.0,>=2.13.0->spacy<3.6.0,>=3.5.0->ru-core-news-sm==3.5.0) (2.0.4)\n",
      "Requirement already satisfied: idna<4,>=2.5 in /Users/viktoriaknazkova/anaconda3/lib/python3.11/site-packages (from requests<3.0.0,>=2.13.0->spacy<3.6.0,>=3.5.0->ru-core-news-sm==3.5.0) (3.4)\n",
      "Requirement already satisfied: urllib3<3,>=1.21.1 in /Users/viktoriaknazkova/anaconda3/lib/python3.11/site-packages (from requests<3.0.0,>=2.13.0->spacy<3.6.0,>=3.5.0->ru-core-news-sm==3.5.0) (1.26.16)\n",
      "Requirement already satisfied: certifi>=2017.4.17 in /Users/viktoriaknazkova/anaconda3/lib/python3.11/site-packages (from requests<3.0.0,>=2.13.0->spacy<3.6.0,>=3.5.0->ru-core-news-sm==3.5.0) (2023.7.22)\n",
      "Requirement already satisfied: blis<0.8.0,>=0.7.8 in /Users/viktoriaknazkova/anaconda3/lib/python3.11/site-packages (from thinc<8.2.0,>=8.1.8->spacy<3.6.0,>=3.5.0->ru-core-news-sm==3.5.0) (0.7.11)\n",
      "Requirement already satisfied: confection<1.0.0,>=0.0.1 in /Users/viktoriaknazkova/anaconda3/lib/python3.11/site-packages (from thinc<8.2.0,>=8.1.8->spacy<3.6.0,>=3.5.0->ru-core-news-sm==3.5.0) (0.1.3)\n",
      "Requirement already satisfied: click<9.0.0,>=7.1.1 in /Users/viktoriaknazkova/anaconda3/lib/python3.11/site-packages (from typer<0.10.0,>=0.3.0->spacy<3.6.0,>=3.5.0->ru-core-news-sm==3.5.0) (8.0.4)\n",
      "Requirement already satisfied: MarkupSafe>=2.0 in /Users/viktoriaknazkova/anaconda3/lib/python3.11/site-packages (from jinja2->spacy<3.6.0,>=3.5.0->ru-core-news-sm==3.5.0) (2.1.1)\n",
      "\u001b[38;5;2m✔ Download and installation successful\u001b[0m\n",
      "You can now load the package via spacy.load('ru_core_news_sm')\n"
     ]
    }
   ],
   "source": [
    "!python -m spacy download ru_core_news_sm"
   ]
  },
  {
   "cell_type": "code",
   "execution_count": 25,
   "id": "47abea2c",
   "metadata": {},
   "outputs": [],
   "source": [
    "import spacy\n",
    "spacy_tokenizer = SpacyTokenizer(spacy.load(\"ru_core_news_sm\"))"
   ]
  },
  {
   "cell_type": "code",
   "execution_count": 26,
   "id": "f112b5fb",
   "metadata": {},
   "outputs": [],
   "source": [
    "import json"
   ]
  },
  {
   "cell_type": "code",
   "execution_count": 28,
   "id": "de49579d",
   "metadata": {},
   "outputs": [],
   "source": [
    "for part in ['train', 'dev']:\n",
    "    folder = datasets[file]['path'].parent\n",
    "    data = TrainDataset(Path(folder, f'reviews_{part}.csv'), Path(folder, f'aspects_{part}.csv'))\n",
    "    bio_annot = data.convert_to_bio(spacy_tokenizer)\n",
    "    \n",
    "    with open(Path(folder, f'bio_{part}.json'), 'w', encoding='utf-8') as f:\n",
    "        json.dump(bio_annot, f, ensure_ascii=False)"
   ]
  },
  {
   "cell_type": "code",
   "execution_count": null,
   "id": "e0759281",
   "metadata": {},
   "outputs": [],
   "source": []
  }
 ],
 "metadata": {
  "kernelspec": {
   "display_name": "Python 3 (ipykernel)",
   "language": "python",
   "name": "python3"
  },
  "language_info": {
   "codemirror_mode": {
    "name": "ipython",
    "version": 3
   },
   "file_extension": ".py",
   "mimetype": "text/x-python",
   "name": "python",
   "nbconvert_exporter": "python",
   "pygments_lexer": "ipython3",
   "version": "3.11.4"
  }
 },
 "nbformat": 4,
 "nbformat_minor": 5
}
