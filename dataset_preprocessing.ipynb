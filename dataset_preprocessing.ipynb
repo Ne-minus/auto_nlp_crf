{
 "cells": [
  {
   "cell_type": "code",
   "execution_count": 1,
   "id": "2ce0928d",
   "metadata": {},
   "outputs": [],
   "source": [
    "from preprocessing import *"
   ]
  },
  {
   "cell_type": "markdown",
   "id": "9f1298a3",
   "metadata": {},
   "source": [
    "# Разбиение на train/dev"
   ]
  },
  {
   "cell_type": "code",
   "execution_count": 2,
   "id": "00fec446",
   "metadata": {},
   "outputs": [],
   "source": [
    "from collections import defaultdict\n",
    "from pathlib import Path\n",
    "\n",
    "import pandas as pd"
   ]
  },
  {
   "cell_type": "code",
   "execution_count": 3,
   "id": "9d66d043",
   "metadata": {},
   "outputs": [],
   "source": [
    "datasets = defaultdict(dict)"
   ]
  },
  {
   "cell_type": "code",
   "execution_count": 4,
   "id": "f5d51327",
   "metadata": {},
   "outputs": [],
   "source": [
    "datasets['reviews']['path'] = Path('./data/train_reviews.txt').resolve()\n",
    "datasets['aspects']['path'] = Path('./data/train_aspects.txt').resolve()\n",
    "datasets['categories']['path'] = Path('./data/train_cats.txt').resolve()"
   ]
  },
  {
   "cell_type": "markdown",
   "id": "dbba1102",
   "metadata": {},
   "source": [
    "---"
   ]
  },
  {
   "cell_type": "code",
   "execution_count": 15,
   "id": "b6cac805",
   "metadata": {},
   "outputs": [],
   "source": [
    "datasets['reviews']['full_df'] = pd.read_csv(\n",
    "    datasets['reviews']['path'], sep='\\t', header=None, index_col=None, names=['text_id', 'text']\n",
    ")\n",
    "datasets['aspects']['full_df'] = pd.read_csv(datasets['aspects']['path'], sep='\\t', header=None, index_col=None, \n",
    "                      names=['text_id', 'category', 'aspect', 'start', 'end', 'sentiment'])\n",
    "datasets['categories']['full_df'] = pd.read_csv(datasets['categories']['path'], sep='\\t', header=None, index_col=None, names=['text_id', 'category', 'sentiment'])"
   ]
  },
  {
   "cell_type": "code",
   "execution_count": 6,
   "id": "37e811d7",
   "metadata": {},
   "outputs": [],
   "source": [
    "from sklearn.model_selection import train_test_split"
   ]
  },
  {
   "cell_type": "code",
   "execution_count": 16,
   "id": "8192a797",
   "metadata": {},
   "outputs": [
    {
     "data": {
      "text/plain": [
       "((227,), (57,))"
      ]
     },
     "execution_count": 16,
     "metadata": {},
     "output_type": "execute_result"
    }
   ],
   "source": [
    "text_ids = datasets['reviews']['full_df'].text_id.values\n",
    "train_text_idx, test_text_ids = train_test_split(text_ids, test_size=0.2, random_state=42)\n",
    "train_text_idx.shape, test_text_ids.shape"
   ]
  },
  {
   "cell_type": "code",
   "execution_count": 17,
   "id": "578af65b",
   "metadata": {},
   "outputs": [],
   "source": [
    "for file in datasets:\n",
    "    train, test = split_data(datasets[file]['full_df'], train_text_idx, test_text_ids, 'text_id')\n",
    "    datasets[file]['train'] = train\n",
    "    datasets[file]['dev'] = test"
   ]
  },
  {
   "cell_type": "code",
   "execution_count": 18,
   "id": "6bd6e2e9",
   "metadata": {},
   "outputs": [
    {
     "data": {
      "text/html": [
       "<div>\n",
       "<style scoped>\n",
       "    .dataframe tbody tr th:only-of-type {\n",
       "        vertical-align: middle;\n",
       "    }\n",
       "\n",
       "    .dataframe tbody tr th {\n",
       "        vertical-align: top;\n",
       "    }\n",
       "\n",
       "    .dataframe thead th {\n",
       "        text-align: right;\n",
       "    }\n",
       "</style>\n",
       "<table border=\"1\" class=\"dataframe\">\n",
       "  <thead>\n",
       "    <tr style=\"text-align: right;\">\n",
       "      <th></th>\n",
       "      <th>text_id</th>\n",
       "      <th>text</th>\n",
       "    </tr>\n",
       "  </thead>\n",
       "  <tbody>\n",
       "    <tr>\n",
       "      <th>278</th>\n",
       "      <td>343</td>\n",
       "      <td>Отмечали свадьбу в этом ресторане! В целом все...</td>\n",
       "    </tr>\n",
       "    <tr>\n",
       "      <th>279</th>\n",
       "      <td>6962</td>\n",
       "      <td>Очаровательная Виктория просила об отзыве и я ...</td>\n",
       "    </tr>\n",
       "    <tr>\n",
       "      <th>280</th>\n",
       "      <td>9878</td>\n",
       "      <td>Пришли в данное заведение 4 июня 2014 года пок...</td>\n",
       "    </tr>\n",
       "    <tr>\n",
       "      <th>281</th>\n",
       "      <td>28258</td>\n",
       "      <td>Заехали с мужем поужинать в пятницу ( 17.01.14...</td>\n",
       "    </tr>\n",
       "    <tr>\n",
       "      <th>283</th>\n",
       "      <td>16630</td>\n",
       "      <td>Уютная и тёплая домашняя обстановка! Милый и о...</td>\n",
       "    </tr>\n",
       "  </tbody>\n",
       "</table>\n",
       "</div>"
      ],
      "text/plain": [
       "     text_id                                               text\n",
       "278      343  Отмечали свадьбу в этом ресторане! В целом все...\n",
       "279     6962  Очаровательная Виктория просила об отзыве и я ...\n",
       "280     9878  Пришли в данное заведение 4 июня 2014 года пок...\n",
       "281    28258  Заехали с мужем поужинать в пятницу ( 17.01.14...\n",
       "283    16630  Уютная и тёплая домашняя обстановка! Милый и о..."
      ]
     },
     "execution_count": 18,
     "metadata": {},
     "output_type": "execute_result"
    }
   ],
   "source": [
    "datasets['reviews']['train'].tail()"
   ]
  },
  {
   "cell_type": "code",
   "execution_count": 19,
   "id": "71771262",
   "metadata": {},
   "outputs": [
    {
     "data": {
      "text/html": [
       "<div>\n",
       "<style scoped>\n",
       "    .dataframe tbody tr th:only-of-type {\n",
       "        vertical-align: middle;\n",
       "    }\n",
       "\n",
       "    .dataframe tbody tr th {\n",
       "        vertical-align: top;\n",
       "    }\n",
       "\n",
       "    .dataframe thead th {\n",
       "        text-align: right;\n",
       "    }\n",
       "</style>\n",
       "<table border=\"1\" class=\"dataframe\">\n",
       "  <thead>\n",
       "    <tr style=\"text-align: right;\">\n",
       "      <th></th>\n",
       "      <th>text_id</th>\n",
       "      <th>category</th>\n",
       "      <th>aspect</th>\n",
       "      <th>start</th>\n",
       "      <th>end</th>\n",
       "      <th>sentiment</th>\n",
       "    </tr>\n",
       "  </thead>\n",
       "  <tbody>\n",
       "    <tr>\n",
       "      <th>4758</th>\n",
       "      <td>16630</td>\n",
       "      <td>Service</td>\n",
       "      <td>обслуживание</td>\n",
       "      <td>85</td>\n",
       "      <td>97</td>\n",
       "      <td>positive</td>\n",
       "    </tr>\n",
       "    <tr>\n",
       "      <th>4759</th>\n",
       "      <td>16630</td>\n",
       "      <td>Food</td>\n",
       "      <td>Еда</td>\n",
       "      <td>99</td>\n",
       "      <td>102</td>\n",
       "      <td>positive</td>\n",
       "    </tr>\n",
       "    <tr>\n",
       "      <th>4760</th>\n",
       "      <td>16630</td>\n",
       "      <td>Service</td>\n",
       "      <td>персоналу</td>\n",
       "      <td>244</td>\n",
       "      <td>253</td>\n",
       "      <td>positive</td>\n",
       "    </tr>\n",
       "    <tr>\n",
       "      <th>4761</th>\n",
       "      <td>16630</td>\n",
       "      <td>Whole</td>\n",
       "      <td>ресторан</td>\n",
       "      <td>294</td>\n",
       "      <td>302</td>\n",
       "      <td>positive</td>\n",
       "    </tr>\n",
       "    <tr>\n",
       "      <th>4762</th>\n",
       "      <td>16630</td>\n",
       "      <td>Whole</td>\n",
       "      <td>место</td>\n",
       "      <td>315</td>\n",
       "      <td>320</td>\n",
       "      <td>positive</td>\n",
       "    </tr>\n",
       "  </tbody>\n",
       "</table>\n",
       "</div>"
      ],
      "text/plain": [
       "      text_id category        aspect  start  end sentiment\n",
       "4758    16630  Service  обслуживание     85   97  positive\n",
       "4759    16630     Food           Еда     99  102  positive\n",
       "4760    16630  Service     персоналу    244  253  positive\n",
       "4761    16630    Whole      ресторан    294  302  positive\n",
       "4762    16630    Whole         место    315  320  positive"
      ]
     },
     "execution_count": 19,
     "metadata": {},
     "output_type": "execute_result"
    }
   ],
   "source": [
    "datasets['aspects']['train'].tail()"
   ]
  },
  {
   "cell_type": "code",
   "execution_count": 23,
   "id": "825acf0f",
   "metadata": {},
   "outputs": [],
   "source": [
    "for file in datasets:\n",
    "    folder = datasets[file]['path'].parent\n",
    "    datasets[file]['train'].to_csv(Path(folder, f'{file}_train.csv'), sep='\\t', header=False, index=False)\n",
    "    datasets[file]['dev'].to_csv(Path(folder, f'{file}_dev.csv'), sep='\\t', header=False, index=False)"
   ]
  },
  {
   "cell_type": "markdown",
   "id": "1141df31",
   "metadata": {},
   "source": [
    "# Конвертация в BIO"
   ]
  },
  {
   "cell_type": "code",
   "execution_count": 5,
   "id": "45d93655",
   "metadata": {
    "scrolled": true
   },
   "outputs": [
    {
     "name": "stdout",
     "output_type": "stream",
     "text": [
      "Collecting ru-core-news-sm==3.5.0\n",
      "  Downloading https://github.com/explosion/spacy-models/releases/download/ru_core_news_sm-3.5.0/ru_core_news_sm-3.5.0-py3-none-any.whl (15.3 MB)\n",
      "\u001b[2K     \u001b[90m━━━━━━━━━━━━━━━━━━━━━━━━━━━━━━━━━━━━━━━━\u001b[0m \u001b[32m15.3/15.3 MB\u001b[0m \u001b[31m3.9 MB/s\u001b[0m eta \u001b[36m0:00:00\u001b[0m00:01\u001b[0m00:01\u001b[0m\n",
      "\u001b[?25hRequirement already satisfied: spacy<3.6.0,>=3.5.0 in /Users/viktoriaknazkova/anaconda3/lib/python3.11/site-packages (from ru-core-news-sm==3.5.0) (3.5.4)\n",
      "Requirement already satisfied: pymorphy3>=1.0.0 in /Users/viktoriaknazkova/anaconda3/lib/python3.11/site-packages (from ru-core-news-sm==3.5.0) (1.2.1)\n",
      "Requirement already satisfied: dawg-python>=0.7.1 in /Users/viktoriaknazkova/anaconda3/lib/python3.11/site-packages (from pymorphy3>=1.0.0->ru-core-news-sm==3.5.0) (0.7.2)\n",
      "Requirement already satisfied: docopt-ng>=0.6 in /Users/viktoriaknazkova/anaconda3/lib/python3.11/site-packages (from pymorphy3>=1.0.0->ru-core-news-sm==3.5.0) (0.9.0)\n",
      "Requirement already satisfied: pymorphy3-dicts-ru in /Users/viktoriaknazkova/anaconda3/lib/python3.11/site-packages (from pymorphy3>=1.0.0->ru-core-news-sm==3.5.0) (2.4.417150.4580142)\n",
      "Requirement already satisfied: spacy-legacy<3.1.0,>=3.0.11 in /Users/viktoriaknazkova/anaconda3/lib/python3.11/site-packages (from spacy<3.6.0,>=3.5.0->ru-core-news-sm==3.5.0) (3.0.12)\n",
      "Requirement already satisfied: spacy-loggers<2.0.0,>=1.0.0 in /Users/viktoriaknazkova/anaconda3/lib/python3.11/site-packages (from spacy<3.6.0,>=3.5.0->ru-core-news-sm==3.5.0) (1.0.5)\n",
      "Requirement already satisfied: murmurhash<1.1.0,>=0.28.0 in /Users/viktoriaknazkova/anaconda3/lib/python3.11/site-packages (from spacy<3.6.0,>=3.5.0->ru-core-news-sm==3.5.0) (1.0.10)\n",
      "Requirement already satisfied: cymem<2.1.0,>=2.0.2 in /Users/viktoriaknazkova/anaconda3/lib/python3.11/site-packages (from spacy<3.6.0,>=3.5.0->ru-core-news-sm==3.5.0) (2.0.8)\n",
      "Requirement already satisfied: preshed<3.1.0,>=3.0.2 in /Users/viktoriaknazkova/anaconda3/lib/python3.11/site-packages (from spacy<3.6.0,>=3.5.0->ru-core-news-sm==3.5.0) (3.0.9)\n",
      "Requirement already satisfied: thinc<8.2.0,>=8.1.8 in /Users/viktoriaknazkova/anaconda3/lib/python3.11/site-packages (from spacy<3.6.0,>=3.5.0->ru-core-news-sm==3.5.0) (8.1.12)\n",
      "Requirement already satisfied: wasabi<1.2.0,>=0.9.1 in /Users/viktoriaknazkova/anaconda3/lib/python3.11/site-packages (from spacy<3.6.0,>=3.5.0->ru-core-news-sm==3.5.0) (1.1.2)\n",
      "Requirement already satisfied: srsly<3.0.0,>=2.4.3 in /Users/viktoriaknazkova/anaconda3/lib/python3.11/site-packages (from spacy<3.6.0,>=3.5.0->ru-core-news-sm==3.5.0) (2.4.8)\n",
      "Requirement already satisfied: catalogue<2.1.0,>=2.0.6 in /Users/viktoriaknazkova/anaconda3/lib/python3.11/site-packages (from spacy<3.6.0,>=3.5.0->ru-core-news-sm==3.5.0) (2.0.10)\n",
      "Requirement already satisfied: typer<0.10.0,>=0.3.0 in /Users/viktoriaknazkova/anaconda3/lib/python3.11/site-packages (from spacy<3.6.0,>=3.5.0->ru-core-news-sm==3.5.0) (0.9.0)\n",
      "Requirement already satisfied: pathy>=0.10.0 in /Users/viktoriaknazkova/anaconda3/lib/python3.11/site-packages (from spacy<3.6.0,>=3.5.0->ru-core-news-sm==3.5.0) (0.10.2)\n",
      "Requirement already satisfied: smart-open<7.0.0,>=5.2.1 in /Users/viktoriaknazkova/anaconda3/lib/python3.11/site-packages (from spacy<3.6.0,>=3.5.0->ru-core-news-sm==3.5.0) (5.2.1)\n",
      "Requirement already satisfied: tqdm<5.0.0,>=4.38.0 in /Users/viktoriaknazkova/anaconda3/lib/python3.11/site-packages (from spacy<3.6.0,>=3.5.0->ru-core-news-sm==3.5.0) (4.65.0)\n",
      "Requirement already satisfied: numpy>=1.15.0 in /Users/viktoriaknazkova/anaconda3/lib/python3.11/site-packages (from spacy<3.6.0,>=3.5.0->ru-core-news-sm==3.5.0) (1.24.3)\n",
      "Requirement already satisfied: requests<3.0.0,>=2.13.0 in /Users/viktoriaknazkova/anaconda3/lib/python3.11/site-packages (from spacy<3.6.0,>=3.5.0->ru-core-news-sm==3.5.0) (2.31.0)\n",
      "Requirement already satisfied: pydantic!=1.8,!=1.8.1,<1.11.0,>=1.7.4 in /Users/viktoriaknazkova/anaconda3/lib/python3.11/site-packages (from spacy<3.6.0,>=3.5.0->ru-core-news-sm==3.5.0) (1.10.13)\n",
      "Requirement already satisfied: jinja2 in /Users/viktoriaknazkova/anaconda3/lib/python3.11/site-packages (from spacy<3.6.0,>=3.5.0->ru-core-news-sm==3.5.0) (3.1.2)\n",
      "Requirement already satisfied: setuptools in /Users/viktoriaknazkova/anaconda3/lib/python3.11/site-packages (from spacy<3.6.0,>=3.5.0->ru-core-news-sm==3.5.0) (68.0.0)\n",
      "Requirement already satisfied: packaging>=20.0 in /Users/viktoriaknazkova/anaconda3/lib/python3.11/site-packages (from spacy<3.6.0,>=3.5.0->ru-core-news-sm==3.5.0) (23.0)\n",
      "Requirement already satisfied: langcodes<4.0.0,>=3.2.0 in /Users/viktoriaknazkova/anaconda3/lib/python3.11/site-packages (from spacy<3.6.0,>=3.5.0->ru-core-news-sm==3.5.0) (3.3.0)\n",
      "Requirement already satisfied: typing-extensions>=4.2.0 in /Users/viktoriaknazkova/anaconda3/lib/python3.11/site-packages (from pydantic!=1.8,!=1.8.1,<1.11.0,>=1.7.4->spacy<3.6.0,>=3.5.0->ru-core-news-sm==3.5.0) (4.7.1)\n",
      "Requirement already satisfied: charset-normalizer<4,>=2 in /Users/viktoriaknazkova/anaconda3/lib/python3.11/site-packages (from requests<3.0.0,>=2.13.0->spacy<3.6.0,>=3.5.0->ru-core-news-sm==3.5.0) (2.0.4)\n",
      "Requirement already satisfied: idna<4,>=2.5 in /Users/viktoriaknazkova/anaconda3/lib/python3.11/site-packages (from requests<3.0.0,>=2.13.0->spacy<3.6.0,>=3.5.0->ru-core-news-sm==3.5.0) (3.4)\n",
      "Requirement already satisfied: urllib3<3,>=1.21.1 in /Users/viktoriaknazkova/anaconda3/lib/python3.11/site-packages (from requests<3.0.0,>=2.13.0->spacy<3.6.0,>=3.5.0->ru-core-news-sm==3.5.0) (1.26.16)\n",
      "Requirement already satisfied: certifi>=2017.4.17 in /Users/viktoriaknazkova/anaconda3/lib/python3.11/site-packages (from requests<3.0.0,>=2.13.0->spacy<3.6.0,>=3.5.0->ru-core-news-sm==3.5.0) (2023.7.22)\n",
      "Requirement already satisfied: blis<0.8.0,>=0.7.8 in /Users/viktoriaknazkova/anaconda3/lib/python3.11/site-packages (from thinc<8.2.0,>=8.1.8->spacy<3.6.0,>=3.5.0->ru-core-news-sm==3.5.0) (0.7.11)\n",
      "Requirement already satisfied: confection<1.0.0,>=0.0.1 in /Users/viktoriaknazkova/anaconda3/lib/python3.11/site-packages (from thinc<8.2.0,>=8.1.8->spacy<3.6.0,>=3.5.0->ru-core-news-sm==3.5.0) (0.1.3)\n",
      "Requirement already satisfied: click<9.0.0,>=7.1.1 in /Users/viktoriaknazkova/anaconda3/lib/python3.11/site-packages (from typer<0.10.0,>=0.3.0->spacy<3.6.0,>=3.5.0->ru-core-news-sm==3.5.0) (8.0.4)\n",
      "Requirement already satisfied: MarkupSafe>=2.0 in /Users/viktoriaknazkova/anaconda3/lib/python3.11/site-packages (from jinja2->spacy<3.6.0,>=3.5.0->ru-core-news-sm==3.5.0) (2.1.1)\n",
      "\u001b[38;5;2m✔ Download and installation successful\u001b[0m\n",
      "You can now load the package via spacy.load('ru_core_news_sm')\n"
     ]
    }
   ],
   "source": [
    "!python -m spacy download ru_core_news_sm"
   ]
  },
  {
   "cell_type": "code",
   "execution_count": 6,
   "id": "4eb11902",
   "metadata": {},
   "outputs": [],
   "source": [
    "import spacy\n",
    "spacy_tokenizer = SpacyTokenizer(spacy.load(\"ru_core_news_sm\"))"
   ]
  },
  {
   "cell_type": "code",
   "execution_count": 7,
   "id": "760eeab5",
   "metadata": {},
   "outputs": [],
   "source": [
    "import json"
   ]
  },
  {
   "cell_type": "code",
   "execution_count": 8,
   "id": "41343dc4",
   "metadata": {},
   "outputs": [],
   "source": [
    "for part in ['train', 'dev']:\n",
    "    folder = datasets['reviews']['path'].parent\n",
    "    data = ABSATrainDataset(Path(folder, f'reviews_{part}.csv'), Path(folder, f'aspects_{part}.csv'))\n",
    "    bio_annot = data.convert_to_bio(spacy_tokenizer)\n",
    "    \n",
    "    with open(Path(folder, f'bio_{part}.json'), 'w', encoding='utf-8') as f:\n",
    "        json.dump(bio_annot, f, ensure_ascii=False)"
   ]
  },
  {
   "cell_type": "markdown",
   "id": "63882757",
   "metadata": {},
   "source": [
    "---"
   ]
  },
  {
   "cell_type": "code",
   "execution_count": 8,
   "id": "a5011028",
   "metadata": {},
   "outputs": [],
   "source": [
    "data = ABSATrainDataset(\n",
    "    '/Users/viktoriaknazkova/Desktop/me/study/github_repos/nlp_4th_year_absa_project/data/reviews_dev.csv', \n",
    "    '/Users/viktoriaknazkova/Desktop/me/study/github_repos/nlp_4th_year_absa_project/data/aspects_dev.csv')"
   ]
  },
  {
   "cell_type": "code",
   "execution_count": 9,
   "id": "7488b406",
   "metadata": {},
   "outputs": [],
   "source": [
    "bio_df = data.convert_to_bio_df(spacy_tokenizer)"
   ]
  },
  {
   "cell_type": "code",
   "execution_count": 10,
   "id": "68a4af96",
   "metadata": {},
   "outputs": [],
   "source": [
    "bio_df = pd.DataFrame(bio_df, columns=['text_id', 'sent_id', 'token', 'POS', 'BIO', 'char_start', 'char_end'])"
   ]
  },
  {
   "cell_type": "code",
   "execution_count": 11,
   "id": "1494054d",
   "metadata": {},
   "outputs": [
    {
     "data": {
      "text/html": [
       "<div>\n",
       "<style scoped>\n",
       "    .dataframe tbody tr th:only-of-type {\n",
       "        vertical-align: middle;\n",
       "    }\n",
       "\n",
       "    .dataframe tbody tr th {\n",
       "        vertical-align: top;\n",
       "    }\n",
       "\n",
       "    .dataframe thead th {\n",
       "        text-align: right;\n",
       "    }\n",
       "</style>\n",
       "<table border=\"1\" class=\"dataframe\">\n",
       "  <thead>\n",
       "    <tr style=\"text-align: right;\">\n",
       "      <th></th>\n",
       "      <th>text_id</th>\n",
       "      <th>sent_id</th>\n",
       "      <th>token</th>\n",
       "      <th>POS</th>\n",
       "      <th>BIO</th>\n",
       "      <th>char_start</th>\n",
       "      <th>char_end</th>\n",
       "    </tr>\n",
       "  </thead>\n",
       "  <tbody>\n",
       "    <tr>\n",
       "      <th>0</th>\n",
       "      <td>1368</td>\n",
       "      <td>0</td>\n",
       "      <td>Впервые</td>\n",
       "      <td>ADV</td>\n",
       "      <td>O</td>\n",
       "      <td>0</td>\n",
       "      <td>7</td>\n",
       "    </tr>\n",
       "    <tr>\n",
       "      <th>1</th>\n",
       "      <td>1368</td>\n",
       "      <td>0</td>\n",
       "      <td>побывала</td>\n",
       "      <td>VERB</td>\n",
       "      <td>O</td>\n",
       "      <td>8</td>\n",
       "      <td>16</td>\n",
       "    </tr>\n",
       "    <tr>\n",
       "      <th>2</th>\n",
       "      <td>1368</td>\n",
       "      <td>0</td>\n",
       "      <td>в</td>\n",
       "      <td>ADP</td>\n",
       "      <td>O</td>\n",
       "      <td>17</td>\n",
       "      <td>18</td>\n",
       "    </tr>\n",
       "    <tr>\n",
       "      <th>3</th>\n",
       "      <td>1368</td>\n",
       "      <td>0</td>\n",
       "      <td>этом</td>\n",
       "      <td>DET</td>\n",
       "      <td>O</td>\n",
       "      <td>19</td>\n",
       "      <td>23</td>\n",
       "    </tr>\n",
       "    <tr>\n",
       "      <th>4</th>\n",
       "      <td>1368</td>\n",
       "      <td>0</td>\n",
       "      <td>пабе</td>\n",
       "      <td>NOUN</td>\n",
       "      <td>B-Whole</td>\n",
       "      <td>24</td>\n",
       "      <td>28</td>\n",
       "    </tr>\n",
       "  </tbody>\n",
       "</table>\n",
       "</div>"
      ],
      "text/plain": [
       "   text_id  sent_id     token   POS      BIO  char_start  char_end\n",
       "0     1368        0   Впервые   ADV        O           0         7\n",
       "1     1368        0  побывала  VERB        O           8        16\n",
       "2     1368        0         в   ADP        O          17        18\n",
       "3     1368        0      этом   DET        O          19        23\n",
       "4     1368        0      пабе  NOUN  B-Whole          24        28"
      ]
     },
     "execution_count": 11,
     "metadata": {},
     "output_type": "execute_result"
    }
   ],
   "source": [
    "bio_df.head()"
   ]
  },
  {
   "cell_type": "code",
   "execution_count": 19,
   "id": "65bcb1f8",
   "metadata": {
    "scrolled": true
   },
   "outputs": [
    {
     "data": {
      "text/plain": [
       "{(280, 0): [5022, 5023, 5024, 5025, 5026, 5027, 5028, 5029, 5030, 5031, 5032, 5033, 5034], (280, 1): [5035, 5036, 5037, 5038, 5039, 5040, 5041, 5042, 5043], (280, 2): [5044, 5045, 5046, 5047, 5048, 5049, 5050, 5051, 5052, 5053], (280, 3): [5054, 5055, 5056, 5057, 5058, 5059, 5060, 5061, 5062, 5063, 5064, 5065, 5066, 5067, 5068, 5069, 5070, 5071, 5072, 5073, 5074, 5075, 5076, 5077, 5078, 5079, 5080, 5081, 5082, 5083, 5084, 5085, 5086, 5087, 5088, 5089], (280, 4): [5090, 5091, 5092, 5093, 5094, 5095, 5096, 5097, 5098, 5099, 5100, 5101, 5102, 5103, 5104, 5105, 5106, 5107, 5108, 5109, 5110, 5111, 5112, 5113, 5114, 5115, 5116, 5117, 5118, 5119, 5120], (280, 5): [5121, 5122, 5123, 5124, 5125, 5126, 5127, 5128, 5129, 5130, 5131, 5132], (280, 6): [5133, 5134, 5135, 5136, 5137, 5138, 5139], (280, 7): [5140, 5141, 5142, 5143, 5144, 5145, 5146, 5147, 5148], (280, 8): [5149, 5150, 5151, 5152, 5153, 5154, 5155, 5156, 5157], (1368, 0): [0, 1, 2, 3, 4, 5, 6, 7, 8, 9, 10, 11, 12, 13, 14, 15, 16], (1368, 1): [17, 18, 19, 20, 21, 22, 23, 24, 25, 26, 27, 28, 29, 30], (1368, 2): [31, 32, 33, 34, 35, 36, 37, 38, 39, 40, 41], (1368, 3): [42, 43, 44, 45, 46, 47, 48, 49, 50, 51, 52], (1368, 4): [53, 54, 55, 56, 57, 58, 59, 60, 61, 62, 63, 64, 65, 66, 67, 68, 69, 70], (1368, 5): [71, 72, 73, 74, 75, 76, 77, 78, 79, 80, 81, 82, 83, 84, 85, 86, 87, 88], (1368, 6): [89, 90, 91, 92, 93, 94, 95, 96], (1368, 7): [97, 98, 99, 100, 101, 102, 103], (1368, 8): [104, 105, 106, 107, 108, 109, 110], (1368, 9): [111, 112, 113, 114, 115, 116, 117, 118, 119, 120, 121, 122, 123, 124, 125, 126], (1368, 10): [127, 128, 129, 130, 131, 132, 133, 134], (1368, 11): [135, 136, 137, 138, 139, 140, 141], (1368, 12): [142, 143, 144, 145, 146, 147], (1368, 13): [148, 149, 150, 151, 152, 153, 154, 155, 156, 157, 158, 159], (1368, 14): [160, 161, 162, 163, 164, 165, 166, 167, 168, 169, 170, 171, 172, 173], (1368, 15): [174, 175, 176, 177, 178, 179, 180, 181, 182, 183, 184, 185, 186, 187, 188], (1368, 16): [189, 190, 191, 192, 193, 194], (1368, 17): [195, 196, 197, 198, 199, 200], (1368, 18): [201, 202, 203, 204, 205, 206, 207, 208, 209, 210, 211, 212, 213, 214, 215, 216, 217, 218, 219, 220], (2692, 0): [2863, 2864, 2865, 2866, 2867, 2868, 2869, 2870, 2871, 2872, 2873, 2874, 2875, 2876, 2877], (2692, 1): [2878, 2879, 2880, 2881, 2882, 2883, 2884, 2885, 2886, 2887, 2888], (2692, 2): [2889, 2890, 2891, 2892, 2893, 2894, 2895, 2896, 2897, 2898, 2899, 2900], (2692, 3): [2901, 2902, 2903, 2904, 2905, 2906, 2907, 2908, 2909, 2910, 2911], (2692, 4): [2912, 2913, 2914, 2915, 2916, 2917, 2918, 2919, 2920, 2921, 2922, 2923, 2924, 2925, 2926], (2692, 5): [2927, 2928, 2929, 2930, 2931, 2932, 2933, 2934, 2935, 2936, 2937, 2938, 2939, 2940, 2941, 2942, 2943], (2692, 6): [2944, 2945, 2946, 2947, 2948, 2949, 2950, 2951, 2952, 2953, 2954, 2955, 2956, 2957, 2958, 2959, 2960, 2961, 2962, 2963, 2964, 2965, 2966, 2967, 2968, 2969, 2970, 2971], (2692, 7): [2972, 2973, 2974, 2975, 2976, 2977, 2978, 2979, 2980, 2981, 2982, 2983, 2984, 2985, 2986, 2987, 2988, 2989, 2990, 2991, 2992, 2993, 2994, 2995, 2996, 2997, 2998, 2999, 3000, 3001, 3002], (2692, 8): [3003, 3004, 3005, 3006], (2692, 9): [3007, 3008, 3009, 3010], (2692, 10): [3011, 3012], (2692, 11): [3013, 3014, 3015, 3016, 3017, 3018, 3019, 3020], (2747, 0): [6875, 6876, 6877, 6878, 6879, 6880, 6881, 6882, 6883, 6884, 6885], (2747, 1): [6886, 6887, 6888, 6889, 6890, 6891, 6892, 6893, 6894, 6895, 6896, 6897, 6898, 6899], (2747, 2): [6900, 6901, 6902, 6903, 6904, 6905, 6906, 6907, 6908, 6909, 6910, 6911, 6912, 6913, 6914], (2747, 3): [6915, 6916, 6917, 6918, 6919, 6920, 6921, 6922, 6923, 6924, 6925, 6926, 6927, 6928, 6929, 6930, 6931], (2747, 4): [6932, 6933, 6934, 6935, 6936, 6937], (2747, 5): [6938, 6939, 6940, 6941, 6942, 6943, 6944, 6945, 6946, 6947, 6948, 6949], (2747, 6): [6950, 6951, 6952, 6953, 6954, 6955], (2747, 7): [6956, 6957, 6958, 6959, 6960, 6961, 6962, 6963], (2747, 8): [6964, 6965, 6966, 6967, 6968, 6969, 6970, 6971, 6972, 6973, 6974, 6975, 6976, 6977, 6978, 6979, 6980, 6981, 6982, 6983], (2747, 9): [6984, 6985, 6986, 6987, 6988, 6989, 6990, 6991, 6992, 6993, 6994, 6995, 6996, 6997, 6998], (2747, 10): [6999, 7000, 7001, 7002, 7003, 7004, 7005], (2747, 11): [7006, 7007, 7008, 7009, 7010, 7011, 7012, 7013, 7014, 7015, 7016, 7017, 7018, 7019, 7020, 7021, 7022, 7023], (2747, 12): [7024, 7025, 7026, 7027], (2747, 13): [7028, 7029, 7030, 7031, 7032, 7033, 7034, 7035, 7036, 7037, 7038, 7039, 7040, 7041, 7042, 7043, 7044], (2747, 14): [7045, 7046, 7047, 7048, 7049, 7050, 7051, 7052, 7053], (2747, 15): [7054, 7055, 7056, 7057, 7058, 7059, 7060, 7061, 7062], (2747, 16): [7063, 7064, 7065, 7066, 7067, 7068, 7069, 7070, 7071, 7072, 7073, 7074, 7075, 7076, 7077, 7078, 7079, 7080, 7081, 7082, 7083, 7084, 7085, 7086, 7087, 7088, 7089, 7090, 7091, 7092, 7093, 7094, 7095, 7096, 7097, 7098, 7099, 7100, 7101, 7102, 7103, 7104, 7105, 7106, 7107, 7108, 7109, 7110, 7111, 7112, 7113, 7114], (3231, 0): [5852, 5853, 5854, 5855, 5856, 5857, 5858, 5859, 5860, 5861], (3231, 1): [5862, 5863, 5864, 5865, 5866, 5867, 5868, 5869, 5870, 5871, 5872, 5873, 5874, 5875], (3231, 2): [5876, 5877, 5878, 5879, 5880, 5881, 5882, 5883, 5884, 5885, 5886, 5887, 5888, 5889, 5890, 5891], (3231, 3): [5892, 5893, 5894, 5895, 5896, 5897, 5898], (3231, 4): [5899, 5900, 5901, 5902, 5903, 5904, 5905, 5906, 5907, 5908, 5909, 5910, 5911, 5912, 5913, 5914, 5915, 5916, 5917, 5918, 5919, 5920, 5921, 5922, 5923], (3231, 5): [5924, 5925, 5926, 5927, 5928, 5929, 5930, 5931, 5932, 5933, 5934, 5935, 5936, 5937, 5938, 5939, 5940, 5941, 5942, 5943, 5944, 5945, 5946, 5947, 5948, 5949, 5950, 5951, 5952, 5953, 5954, 5955, 5956, 5957, 5958, 5959, 5960, 5961, 5962, 5963, 5964, 5965, 5966, 5967, 5968, 5969, 5970, 5971, 5972, 5973, 5974, 5975, 5976, 5977, 5978, 5979, 5980, 5981, 5982, 5983, 5984, 5985, 5986, 5987, 5988, 5989, 5990, 5991, 5992], (3231, 6): [5993, 5994, 5995, 5996, 5997, 5998, 5999, 6000, 6001, 6002, 6003, 6004, 6005, 6006, 6007, 6008, 6009, 6010, 6011, 6012], (3749, 0): [6330, 6331, 6332, 6333, 6334, 6335, 6336, 6337, 6338, 6339, 6340, 6341, 6342, 6343, 6344, 6345, 6346], (3749, 1): [6347, 6348, 6349, 6350, 6351, 6352, 6353, 6354, 6355, 6356], (3749, 2): [6357, 6358, 6359, 6360, 6361, 6362, 6363, 6364, 6365, 6366, 6367, 6368, 6369, 6370], (3749, 3): [6371, 6372, 6373, 6374, 6375, 6376, 6377, 6378, 6379, 6380, 6381, 6382, 6383, 6384, 6385], (3749, 4): [6386, 6387, 6388, 6389, 6390, 6391, 6392, 6393, 6394, 6395, 6396, 6397, 6398, 6399, 6400, 6401, 6402, 6403, 6404, 6405, 6406, 6407, 6408, 6409, 6410, 6411, 6412], (3749, 5): [6413, 6414, 6415, 6416, 6417, 6418, 6419, 6420, 6421, 6422], (3749, 6): [6423, 6424, 6425, 6426, 6427, 6428, 6429, 6430, 6431, 6432, 6433, 6434, 6435, 6436, 6437, 6438, 6439, 6440, 6441, 6442, 6443, 6444, 6445, 6446, 6447], (3749, 7): [6448, 6449, 6450, 6451, 6452, 6453, 6454, 6455], (3749, 8): [6456, 6457, 6458, 6459, 6460, 6461, 6462, 6463, 6464, 6465, 6466], (3749, 9): [6467, 6468, 6469], (3749, 10): [6470, 6471, 6472, 6473, 6474, 6475, 6476, 6477, 6478, 6479], (3749, 11): [6480, 6481, 6482, 6483], (3749, 12): [6484, 6485, 6486, 6487, 6488, 6489, 6490, 6491], (3749, 13): [6492, 6493, 6494, 6495, 6496, 6497], (3749, 14): [6498, 6499, 6500, 6501, 6502, 6503, 6504, 6505, 6506, 6507, 6508], (3749, 15): [6509, 6510, 6511, 6512, 6513, 6514, 6515, 6516, 6517, 6518, 6519, 6520, 6521, 6522, 6523, 6524], (3749, 16): [6525, 6526, 6527, 6528, 6529], (3749, 17): [6530, 6531, 6532, 6533, 6534, 6535, 6536, 6537, 6538, 6539, 6540, 6541, 6542, 6543, 6544, 6545, 6546], (3749, 18): [6547, 6548, 6549, 6550, 6551, 6552, 6553, 6554, 6555, 6556, 6557, 6558, 6559, 6560, 6561, 6562], (3875, 0): [6013, 6014, 6015, 6016, 6017, 6018, 6019, 6020, 6021, 6022, 6023, 6024, 6025, 6026, 6027, 6028, 6029, 6030, 6031, 6032, 6033, 6034, 6035, 6036, 6037], (3875, 1): [6038, 6039, 6040, 6041, 6042, 6043, 6044, 6045, 6046, 6047, 6048, 6049, 6050, 6051, 6052, 6053], (3875, 2): [6054, 6055, 6056, 6057, 6058, 6059, 6060, 6061, 6062, 6063, 6064], (3875, 3): [6065, 6066, 6067, 6068, 6069, 6070, 6071, 6072, 6073, 6074, 6075, 6076, 6077, 6078, 6079, 6080, 6081, 6082, 6083, 6084, 6085, 6086, 6087, 6088, 6089, 6090, 6091, 6092, 6093, 6094, 6095, 6096, 6097, 6098, 6099, 6100, 6101, 6102, 6103, 6104, 6105, 6106, 6107, 6108, 6109, 6110, 6111, 6112, 6113, 6114, 6115, 6116, 6117, 6118, 6119, 6120, 6121, 6122, 6123, 6124, 6125, 6126, 6127, 6128, 6129, 6130, 6131, 6132, 6133], (3875, 4): [6134, 6135, 6136, 6137, 6138, 6139, 6140, 6141, 6142, 6143, 6144, 6145, 6146], (5037, 0): [2202, 2203, 2204, 2205, 2206, 2207, 2208, 2209], (5037, 1): [2210, 2211, 2212, 2213, 2214, 2215], (5037, 2): [2216, 2217, 2218, 2219, 2220], (5037, 3): [2221, 2222, 2223, 2224, 2225, 2226, 2227, 2228, 2229, 2230, 2231], (5037, 4): [2232, 2233, 2234, 2235, 2236, 2237, 2238, 2239, 2240, 2241, 2242, 2243, 2244, 2245, 2246, 2247, 2248, 2249], (5037, 5): [2250, 2251, 2252, 2253, 2254, 2255, 2256, 2257, 2258, 2259], (5037, 6): [2260, 2261, 2262, 2263, 2264, 2265, 2266, 2267, 2268, 2269, 2270, 2271, 2272, 2273, 2274, 2275, 2276, 2277, 2278, 2279, 2280, 2281, 2282, 2283, 2284, 2285, 2286, 2287, 2288, 2289, 2290, 2291], (5037, 7): [2292, 2293], (5037, 8): [2294, 2295, 2296, 2297, 2298, 2299], (5037, 9): [2300, 2301, 2302, 2303, 2304, 2305, 2306, 2307], (5037, 10): [2308, 2309, 2310, 2311, 2312, 2313, 2314, 2315], (5037, 11): [2316, 2317, 2318, 2319, 2320, 2321, 2322, 2323, 2324, 2325, 2326, 2327, 2328, 2329, 2330, 2331, 2332, 2333, 2334, 2335, 2336, 2337, 2338], ...}"
      ]
     },
     "execution_count": 19,
     "metadata": {},
     "output_type": "execute_result"
    }
   ],
   "source": [
    "sentences = bio_df.groupby(by=['text_id', 'sent_id']).groups\n",
    "sentences"
   ]
  },
  {
   "cell_type": "code",
   "execution_count": 31,
   "id": "6eaa6d64",
   "metadata": {},
   "outputs": [
    {
     "name": "stdout",
     "output_type": "stream",
     "text": [
      "(280, 0)\n"
     ]
    }
   ],
   "source": [
    "for i in sentences:\n",
    "    print(i)\n",
    "#     print(sent)\n",
    "#     print(bio_df.loc[tokens].values.tolist())\n",
    "    break"
   ]
  },
  {
   "cell_type": "code",
   "execution_count": 21,
   "id": "c6caf8b1",
   "metadata": {},
   "outputs": [
    {
     "data": {
      "text/html": [
       "<div>\n",
       "<style scoped>\n",
       "    .dataframe tbody tr th:only-of-type {\n",
       "        vertical-align: middle;\n",
       "    }\n",
       "\n",
       "    .dataframe tbody tr th {\n",
       "        vertical-align: top;\n",
       "    }\n",
       "\n",
       "    .dataframe thead th {\n",
       "        text-align: right;\n",
       "    }\n",
       "</style>\n",
       "<table border=\"1\" class=\"dataframe\">\n",
       "  <thead>\n",
       "    <tr style=\"text-align: right;\">\n",
       "      <th></th>\n",
       "      <th>text_id</th>\n",
       "      <th>sent_id</th>\n",
       "      <th>token</th>\n",
       "      <th>POS</th>\n",
       "      <th>BIO</th>\n",
       "      <th>char_start</th>\n",
       "      <th>char_end</th>\n",
       "    </tr>\n",
       "  </thead>\n",
       "  <tbody>\n",
       "    <tr>\n",
       "      <th>5022</th>\n",
       "      <td>280</td>\n",
       "      <td>0</td>\n",
       "      <td>Привез</td>\n",
       "      <td>VERB</td>\n",
       "      <td>O</td>\n",
       "      <td>0</td>\n",
       "      <td>6</td>\n",
       "    </tr>\n",
       "    <tr>\n",
       "      <th>5023</th>\n",
       "      <td>280</td>\n",
       "      <td>0</td>\n",
       "      <td>в</td>\n",
       "      <td>ADP</td>\n",
       "      <td>O</td>\n",
       "      <td>7</td>\n",
       "      <td>8</td>\n",
       "    </tr>\n",
       "    <tr>\n",
       "      <th>5024</th>\n",
       "      <td>280</td>\n",
       "      <td>0</td>\n",
       "      <td>этот</td>\n",
       "      <td>DET</td>\n",
       "      <td>O</td>\n",
       "      <td>9</td>\n",
       "      <td>13</td>\n",
       "    </tr>\n",
       "    <tr>\n",
       "      <th>5025</th>\n",
       "      <td>280</td>\n",
       "      <td>0</td>\n",
       "      <td>ресторан</td>\n",
       "      <td>NOUN</td>\n",
       "      <td>B-Whole</td>\n",
       "      <td>14</td>\n",
       "      <td>22</td>\n",
       "    </tr>\n",
       "    <tr>\n",
       "      <th>5026</th>\n",
       "      <td>280</td>\n",
       "      <td>0</td>\n",
       "      <td>друг</td>\n",
       "      <td>PRON</td>\n",
       "      <td>O</td>\n",
       "      <td>23</td>\n",
       "      <td>27</td>\n",
       "    </tr>\n",
       "    <tr>\n",
       "      <th>5027</th>\n",
       "      <td>280</td>\n",
       "      <td>0</td>\n",
       "      <td>-</td>\n",
       "      <td>ADV</td>\n",
       "      <td>O</td>\n",
       "      <td>28</td>\n",
       "      <td>29</td>\n",
       "    </tr>\n",
       "    <tr>\n",
       "      <th>5028</th>\n",
       "      <td>280</td>\n",
       "      <td>0</td>\n",
       "      <td>у</td>\n",
       "      <td>ADP</td>\n",
       "      <td>O</td>\n",
       "      <td>30</td>\n",
       "      <td>31</td>\n",
       "    </tr>\n",
       "    <tr>\n",
       "      <th>5029</th>\n",
       "      <td>280</td>\n",
       "      <td>0</td>\n",
       "      <td>него</td>\n",
       "      <td>PRON</td>\n",
       "      <td>O</td>\n",
       "      <td>32</td>\n",
       "      <td>36</td>\n",
       "    </tr>\n",
       "    <tr>\n",
       "      <th>5030</th>\n",
       "      <td>280</td>\n",
       "      <td>0</td>\n",
       "      <td>там</td>\n",
       "      <td>ADV</td>\n",
       "      <td>O</td>\n",
       "      <td>37</td>\n",
       "      <td>40</td>\n",
       "    </tr>\n",
       "    <tr>\n",
       "      <th>5031</th>\n",
       "      <td>280</td>\n",
       "      <td>0</td>\n",
       "      <td>была</td>\n",
       "      <td>AUX</td>\n",
       "      <td>O</td>\n",
       "      <td>41</td>\n",
       "      <td>45</td>\n",
       "    </tr>\n",
       "    <tr>\n",
       "      <th>5032</th>\n",
       "      <td>280</td>\n",
       "      <td>0</td>\n",
       "      <td>назначена</td>\n",
       "      <td>VERB</td>\n",
       "      <td>O</td>\n",
       "      <td>46</td>\n",
       "      <td>55</td>\n",
       "    </tr>\n",
       "    <tr>\n",
       "      <th>5033</th>\n",
       "      <td>280</td>\n",
       "      <td>0</td>\n",
       "      <td>встреча</td>\n",
       "      <td>NOUN</td>\n",
       "      <td>O</td>\n",
       "      <td>56</td>\n",
       "      <td>63</td>\n",
       "    </tr>\n",
       "    <tr>\n",
       "      <th>5034</th>\n",
       "      <td>280</td>\n",
       "      <td>0</td>\n",
       "      <td>.</td>\n",
       "      <td>PUNCT</td>\n",
       "      <td>O</td>\n",
       "      <td>63</td>\n",
       "      <td>64</td>\n",
       "    </tr>\n",
       "  </tbody>\n",
       "</table>\n",
       "</div>"
      ],
      "text/plain": [
       "      text_id  sent_id      token    POS      BIO  char_start  char_end\n",
       "5022      280        0     Привез   VERB        O           0         6\n",
       "5023      280        0          в    ADP        O           7         8\n",
       "5024      280        0       этот    DET        O           9        13\n",
       "5025      280        0   ресторан   NOUN  B-Whole          14        22\n",
       "5026      280        0       друг   PRON        O          23        27\n",
       "5027      280        0          -    ADV        O          28        29\n",
       "5028      280        0          у    ADP        O          30        31\n",
       "5029      280        0       него   PRON        O          32        36\n",
       "5030      280        0        там    ADV        O          37        40\n",
       "5031      280        0       была    AUX        O          41        45\n",
       "5032      280        0  назначена   VERB        O          46        55\n",
       "5033      280        0    встреча   NOUN        O          56        63\n",
       "5034      280        0          .  PUNCT        O          63        64"
      ]
     },
     "execution_count": 21,
     "metadata": {},
     "output_type": "execute_result"
    }
   ],
   "source": [
    "bio_df.loc[sentences[(280, 0)]]"
   ]
  },
  {
   "cell_type": "code",
   "execution_count": 32,
   "id": "c3e8b987",
   "metadata": {},
   "outputs": [],
   "source": [
    "bio_df.to_csv('./data/test_bio.csv', sep='\\t', index=False, header=False)"
   ]
  },
  {
   "cell_type": "code",
   "execution_count": null,
   "id": "bd229680",
   "metadata": {},
   "outputs": [],
   "source": []
  }
 ],
 "metadata": {
  "kernelspec": {
   "display_name": "Python 3 (ipykernel)",
   "language": "python",
   "name": "python3"
  },
  "language_info": {
   "codemirror_mode": {
    "name": "ipython",
    "version": 3
   },
   "file_extension": ".py",
   "mimetype": "text/x-python",
   "name": "python",
   "nbconvert_exporter": "python",
   "pygments_lexer": "ipython3",
   "version": "3.11.4"
  }
 },
 "nbformat": 4,
 "nbformat_minor": 5
}
